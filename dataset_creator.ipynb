{
 "cells": [
  {
   "cell_type": "code",
   "execution_count": null,
   "metadata": {},
   "outputs": [],
   "source": [
    "import os, os.path\n",
    "\n",
    "from src.shared import dataset_utils as du"
   ]
  },
  {
   "cell_type": "code",
   "execution_count": null,
   "metadata": {},
   "outputs": [],
   "source": [
    "CREATE_DATASET = False\n",
    "VISUALIZE_DATASET = False"
   ]
  },
  {
   "cell_type": "code",
   "execution_count": null,
   "metadata": {},
   "outputs": [],
   "source": [
    "DATASET_FILES_DIR_PATH = \"./datasets/cifar10\"\n",
    "DATASET_NAME = \"cifar10\"\n",
    "NUM_OF_QUANTA = 4\n",
    "TEMPERATURE = 0.1\n",
    "PERC_OF_IID_QUANTA = 0.1"
   ]
  },
  {
   "cell_type": "code",
   "execution_count": null,
   "metadata": {},
   "outputs": [],
   "source": [
    "if CREATE_DATASET:\n",
    "\tquanta, testset, valset = du.quantize_dataset(\n",
    "\t\tdataset_path = DATASET_NAME,\n",
    "\t\tnum_quant = NUM_OF_QUANTA,\n",
    "\t\ttemperature = TEMPERATURE,\n",
    "\t\tiid_percentage = PERC_OF_IID_QUANTA,\n",
    "\t\tshow_info=True\n",
    "\t)"
   ]
  },
  {
   "cell_type": "code",
   "execution_count": null,
   "metadata": {},
   "outputs": [],
   "source": [
    "if CREATE_DATASET:\n",
    "\tif os.path.isdir(DATASET_FILES_DIR_PATH) is False:\n",
    "\t\tos.makedirs(DATASET_FILES_DIR_PATH)\n",
    "\n",
    "\telse:\n",
    "\t\tos.system(f\"rm -rf {DATASET_FILES_DIR_PATH}/*\")\n",
    "\n",
    "\tquanta_paths, testset_path, valset_path = du.save_datasets(quanta, testset, valset, DATASET_FILES_DIR_PATH)"
   ]
  },
  {
   "cell_type": "code",
   "execution_count": null,
   "metadata": {},
   "outputs": [],
   "source": [
    "if VISUALIZE_DATASET:\n",
    "\tquanta_paths = [os.path.join(DATASET_FILES_DIR_PATH, f) for f in os.listdir(DATASET_FILES_DIR_PATH) if os.path.isfile(os.path.join(DATASET_FILES_DIR_PATH, f)) and f.startswith(\"trainset_\")]\n",
    "\n",
    "\tinfo = {}\n",
    "\n",
    "\tfor quanta_path in quanta_paths:\n",
    "\t\tto_analyze = du.load_npz_file(quanta_path)\n",
    "\n",
    "\t\tindex = int(quanta_path.split(\"_\")[-1].split(\".\")[0])\n",
    "\n",
    "\t\tinfo[f\"Partition {index}\"] = du.calculate_partition_info(to_analyze)\n",
    "\n",
    "\tdu.pretty_info(info)"
   ]
  }
 ],
 "metadata": {
  "language_info": {
   "name": "python"
  }
 },
 "nbformat": 4,
 "nbformat_minor": 2
}
