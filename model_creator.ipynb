{
 "cells": [
  {
   "cell_type": "code",
   "execution_count": 1,
   "metadata": {},
   "outputs": [
    {
     "name": "stderr",
     "output_type": "stream",
     "text": [
      "2024-10-11 00:49:25.226534: I tensorflow/core/util/port.cc:113] oneDNN custom operations are on. You may see slightly different numerical results due to floating-point round-off errors from different computation orders. To turn them off, set the environment variable `TF_ENABLE_ONEDNN_OPTS=0`.\n",
      "2024-10-11 00:49:25.249083: E external/local_xla/xla/stream_executor/cuda/cuda_dnn.cc:9261] Unable to register cuDNN factory: Attempting to register factory for plugin cuDNN when one has already been registered\n",
      "2024-10-11 00:49:25.249100: E external/local_xla/xla/stream_executor/cuda/cuda_fft.cc:607] Unable to register cuFFT factory: Attempting to register factory for plugin cuFFT when one has already been registered\n",
      "2024-10-11 00:49:25.249767: E external/local_xla/xla/stream_executor/cuda/cuda_blas.cc:1515] Unable to register cuBLAS factory: Attempting to register factory for plugin cuBLAS when one has already been registered\n",
      "2024-10-11 00:49:25.253961: I tensorflow/core/platform/cpu_feature_guard.cc:182] This TensorFlow binary is optimized to use available CPU instructions in performance-critical operations.\n",
      "To enable the following instructions: AVX2 AVX_VNNI FMA, in other operations, rebuild TensorFlow with the appropriate compiler flags.\n",
      "2024-10-11 00:49:25.960317: W tensorflow/compiler/tf2tensorrt/utils/py_utils.cc:38] TF-TRT Warning: Could not find TensorRT\n"
     ]
    }
   ],
   "source": [
    "from tensorflow import keras as tensorflow_keras\n",
    "import json"
   ]
  },
  {
   "cell_type": "code",
   "execution_count": 2,
   "metadata": {},
   "outputs": [],
   "source": [
    "def get_deep_model():\n",
    "\tmodel = tensorflow_keras.models.Sequential()\n",
    "\tmodel.add(tensorflow_keras.layers.Conv2D(32, (3, 3), padding='same', activation='relu', input_shape=(32, 32, 3)))\n",
    "\tmodel.add(tensorflow_keras.layers.Conv2D(32, (3, 3), activation='relu'))\n",
    "\tmodel.add(tensorflow_keras.layers.MaxPooling2D(pool_size=(2, 2)))\n",
    "\tmodel.add(tensorflow_keras.layers.Dropout(0.25))\n",
    "\n",
    "\tmodel.add(tensorflow_keras.layers.Conv2D(64, (3, 3), padding='same', activation='relu'))\n",
    "\tmodel.add(tensorflow_keras.layers.Conv2D(64, (3, 3), activation='relu'))\n",
    "\tmodel.add(tensorflow_keras.layers.MaxPooling2D(pool_size=(2, 2)))\n",
    "\tmodel.add(tensorflow_keras.layers.Dropout(0.25))\n",
    "\n",
    "\tmodel.add(tensorflow_keras.layers.Flatten())\n",
    "\tmodel.add(tensorflow_keras.layers.Dense(512, activation='relu'))\n",
    "\tmodel.add(tensorflow_keras.layers.Dropout(0.5))\n",
    "\tmodel.add(tensorflow_keras.layers.Dense(10, activation='softmax'))\n",
    "\treturn model"
   ]
  },
  {
   "cell_type": "code",
   "execution_count": 3,
   "metadata": {},
   "outputs": [],
   "source": [
    "def get_shallow_model():\n",
    "\tmodel = tensorflow_keras.models.Sequential()\n",
    "\tmodel.add(tensorflow_keras.layers.Conv2D(16, (5, 5), padding='same', activation='relu', input_shape=(32, 32, 3)))\n",
    "\tmodel.add(tensorflow_keras.layers.Flatten())\n",
    "\tmodel.add(tensorflow_keras.layers.Dense(10, activation='softmax'))\n",
    "\treturn model"
   ]
  },
  {
   "cell_type": "code",
   "execution_count": 2,
   "metadata": {},
   "outputs": [],
   "source": [
    "def get_pretrained_model():\n",
    "\tbase_model = tensorflow_keras.applications.MobileNetV2(input_shape=(32, 32, 3), include_top=False, weights='imagenet')\n",
    "\t# Add custom layers on top of MobileNetV2\n",
    "\tmodel = tensorflow_keras.models.Sequential()\n",
    "\tmodel.add(base_model)\n",
    "\tmodel.add(tensorflow_keras.layers.GlobalAveragePooling2D())\n",
    "\tmodel.add(tensorflow_keras.layers.Dense(512, activation='relu'))\n",
    "\tmodel.add(tensorflow_keras.layers.Dense(100, activation='softmax'))  # 100 classes for CIFAR-100\n",
    "\t# Freeze first layers until block_16_expand\n",
    "\tfor layer in model.layers[0].layers:\n",
    "\t\tlayer.trainable = False\n",
    "\t# Unfreeze the rest\n",
    "\tfor layer in model.layers[0].layers[9*16:]:\n",
    "\t\tlayer.trainable = True\n",
    "\treturn model"
   ]
  },
  {
   "cell_type": "code",
   "execution_count": 3,
   "metadata": {},
   "outputs": [],
   "source": [
    "def save_weights(model, path):\n",
    "    weights = model.get_weights()\n",
    "    weights_list = [weights_elem.tolist() for weights_elem in weights]\n",
    "\n",
    "    with open(path, \"w\") as file:\n",
    "        json.dump(weights_list, file)"
   ]
  },
  {
   "cell_type": "code",
   "execution_count": 4,
   "metadata": {},
   "outputs": [],
   "source": [
    "def save_model(model, path):\n",
    "\tmodel_architecture_str = model.to_json()\n",
    "\n",
    "\twith open(path, \"w\") as file:\n",
    "\t\tfile.write(model_architecture_str)"
   ]
  },
  {
   "cell_type": "markdown",
   "metadata": {},
   "source": [
    "# Pretrained model (thought for CIFAR100 dataset)"
   ]
  },
  {
   "cell_type": "code",
   "execution_count": 5,
   "metadata": {},
   "outputs": [
    {
     "name": "stdout",
     "output_type": "stream",
     "text": [
      "WARNING:tensorflow:`input_shape` is undefined or non-square, or `rows` is not in [96, 128, 160, 192, 224]. Weights for input shape (224, 224) will be loaded as the default.\n"
     ]
    },
    {
     "name": "stderr",
     "output_type": "stream",
     "text": [
      "2024-10-11 00:49:42.030672: I external/local_xla/xla/stream_executor/cuda/cuda_executor.cc:887] could not open file to read NUMA node: /sys/bus/pci/devices/0000:01:00.0/numa_node\n",
      "Your kernel may have been built without NUMA support.\n",
      "2024-10-11 00:49:42.060517: I external/local_xla/xla/stream_executor/cuda/cuda_executor.cc:887] could not open file to read NUMA node: /sys/bus/pci/devices/0000:01:00.0/numa_node\n",
      "Your kernel may have been built without NUMA support.\n",
      "2024-10-11 00:49:42.060559: I external/local_xla/xla/stream_executor/cuda/cuda_executor.cc:887] could not open file to read NUMA node: /sys/bus/pci/devices/0000:01:00.0/numa_node\n",
      "Your kernel may have been built without NUMA support.\n",
      "2024-10-11 00:49:42.063056: I external/local_xla/xla/stream_executor/cuda/cuda_executor.cc:887] could not open file to read NUMA node: /sys/bus/pci/devices/0000:01:00.0/numa_node\n",
      "Your kernel may have been built without NUMA support.\n",
      "2024-10-11 00:49:42.063101: I external/local_xla/xla/stream_executor/cuda/cuda_executor.cc:887] could not open file to read NUMA node: /sys/bus/pci/devices/0000:01:00.0/numa_node\n",
      "Your kernel may have been built without NUMA support.\n",
      "2024-10-11 00:49:42.063118: I external/local_xla/xla/stream_executor/cuda/cuda_executor.cc:887] could not open file to read NUMA node: /sys/bus/pci/devices/0000:01:00.0/numa_node\n",
      "Your kernel may have been built without NUMA support.\n",
      "2024-10-11 00:49:42.148202: I external/local_xla/xla/stream_executor/cuda/cuda_executor.cc:887] could not open file to read NUMA node: /sys/bus/pci/devices/0000:01:00.0/numa_node\n",
      "Your kernel may have been built without NUMA support.\n",
      "2024-10-11 00:49:42.148253: I external/local_xla/xla/stream_executor/cuda/cuda_executor.cc:887] could not open file to read NUMA node: /sys/bus/pci/devices/0000:01:00.0/numa_node\n",
      "Your kernel may have been built without NUMA support.\n",
      "2024-10-11 00:49:42.148259: I tensorflow/core/common_runtime/gpu/gpu_device.cc:2022] Could not identify NUMA node of platform GPU id 0, defaulting to 0.  Your kernel may not have been built with NUMA support.\n",
      "2024-10-11 00:49:42.148280: I external/local_xla/xla/stream_executor/cuda/cuda_executor.cc:887] could not open file to read NUMA node: /sys/bus/pci/devices/0000:01:00.0/numa_node\n",
      "Your kernel may have been built without NUMA support.\n",
      "2024-10-11 00:49:42.148295: I tensorflow/core/common_runtime/gpu/gpu_device.cc:1929] Created device /job:localhost/replica:0/task:0/device:GPU:0 with 5564 MB memory:  -> device: 0, name: NVIDIA GeForce RTX 3070, pci bus id: 0000:01:00.0, compute capability: 8.6\n"
     ]
    },
    {
     "name": "stdout",
     "output_type": "stream",
     "text": [
      "pretrained_model saved\n"
     ]
    }
   ],
   "source": [
    "selected_model = get_pretrained_model()\n",
    "save_model(selected_model, \"./models/pretrained_model\")\n",
    "save_weights(selected_model, \"./models/pretrained_model_weights\")\n",
    "print(\"pretrained_model saved\")\n"
   ]
  },
  {
   "cell_type": "markdown",
   "metadata": {},
   "source": [
    "# Deep model (thought for CIFAR10 dataset)"
   ]
  },
  {
   "cell_type": "code",
   "execution_count": 8,
   "metadata": {},
   "outputs": [
    {
     "name": "stdout",
     "output_type": "stream",
     "text": [
      "deep_model saved\n"
     ]
    }
   ],
   "source": [
    "selected_model = get_deep_model()\n",
    "save_model(selected_model, \"./models/deep_model\")\n",
    "save_weights(selected_model, \"./models/deep_model_weights\")\n",
    "print(\"deep_model saved\")"
   ]
  },
  {
   "cell_type": "markdown",
   "metadata": {},
   "source": [
    "# Shallow model (thought for the MNIST dataset) "
   ]
  },
  {
   "cell_type": "code",
   "execution_count": 9,
   "metadata": {},
   "outputs": [
    {
     "name": "stdout",
     "output_type": "stream",
     "text": [
      "shallow_model saved\n"
     ]
    }
   ],
   "source": [
    "selected_model = get_shallow_model()\n",
    "save_model(selected_model, \"./models/shallow_model\")\n",
    "save_weights(selected_model, \"./models/shallow_model_weights\")\n",
    "print(\"shallow_model saved\")"
   ]
  }
 ],
 "metadata": {
  "kernelspec": {
   "display_name": "SimulatorFl",
   "language": "python",
   "name": "python3"
  },
  "language_info": {
   "codemirror_mode": {
    "name": "ipython",
    "version": 3
   },
   "file_extension": ".py",
   "mimetype": "text/x-python",
   "name": "python",
   "nbconvert_exporter": "python",
   "pygments_lexer": "ipython3",
   "version": "3.10.14"
  }
 },
 "nbformat": 4,
 "nbformat_minor": 2
}
